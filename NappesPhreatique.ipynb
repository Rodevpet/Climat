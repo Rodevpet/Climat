{
 "cells": [
  {
   "cell_type": "markdown",
   "source": [
    "# États des nappes phréatiques françaises\n",
    "\n",
    "## Introduction\n",
    "En 2023, le changement climatique provoque de plus en plus de sécheresse, il augmente par ailleurs les intensités des canicules et réduit les fréquences des phénomènes pluvieux. Ces phénomènes ont un impact sur les nappes phréatiques françaises. En effet, les nappes phréatiques sont des réservoirs d'eau souterrains qui se remplissent grâce aux précipitations et se vident grâce aux prélèvements. Les nappes phréatiques sont donc un indicateur de la sécheresse. L'objectif de ce projet est de déterminer l'état des nappes phréatiques françaises en 2023. Pour cela, nous allons utiliser les données de l'Agence de l'eau qui sont accessible en *open source*. Le but est d'analysé le niveau actuelle des nappes phréatiques et de le comparer avec les niveaux limites, ainsi nous pourrons déterminer l'état des nappes phréatiques en temps réels si les mesures sont faites régulièrement.\n",
    "\n",
    "### Les mesures\n",
    "Les mesures sont le calcul du niveau d'eau dans les nappes phréatiques, ces mesures peuvent être exprimé selon le NGF (nivellement général français) ou bien selon la profondeur relative du niveau d'eau par rapport au sol. Les mesures sont réalisée grâce un appareil de mesure appelée un piezomètre.\n",
    "\n",
    "Les données sont disponibles sur le site ades.eaufrance.fr. Les nappes phréatiques sont identifié par un code BSS unique. Ce code est nécessaire pour toute les requêtes envoyées au serveur afin qu'il puisse identifié la nappe sur laquel nous souhaitons récupérer des informations.\n",
    "\n",
    "Les données sont ensuite comparée à leur IPS (indicateur piézométrique standardisé) afin d'avoir des critères de niveau d'eau relatif à chaque nappe.\n",
    "\n",
    "\n",
    "> *Les indicateurs piézométriques ont un rôle essentiel dans la gestion locale de la ressource en eau. Toutefois la diversité des critères utilisés pour leur détermination ne permet pas d’avoir une vision homogène de l’impact d’un déficit pluviométrique sur l’état des nappes libres à l’échelle nationale, contrairement à d'autres indicateurs. C’est ce qui a motivé la création de l'IPS (Indicateur Piézométrique Standardisé), qui permet d'avoir une vision homogène de l'état des nappes libres ou captives à l'échelle nationale.*\n",
    "\n",
    "Voir [l'article sur le site du brgm](https://www.brgm.fr/fr/reference-projet-acheve/indicateur-piezometrique-standardise-ips-gestion-ressource-eau) pour plus d'information sur l'IPS."
   ],
   "metadata": {
    "collapsed": false
   }
  },
  {
   "cell_type": "markdown",
   "source": [
    "# I. Importation des données chronique et en temps réel\n",
    "Tout d'abord une requête est envoyé au serveur.\n",
    "L'url est : **https://ades.eaufrance.fr/Fiche/MesureGraphSpliAnnee**\n",
    "\n",
    "Les paramètres sont :\n",
    "- Le code BSS : *obligatoire, Exemple : 07228X0017/PZF*\n",
    "- Année : *obligatoire*\n",
    "- DateMax : *obligatoie, Exemple : 01/01/2023*"
   ],
   "metadata": {
    "collapsed": false
   }
  },
  {
   "cell_type": "code",
   "execution_count": 16,
   "metadata": {
    "collapsed": true,
    "ExecuteTime": {
     "end_time": "2023-06-24T15:40:23.900064Z",
     "start_time": "2023-06-24T15:40:23.872266Z"
    }
   },
   "outputs": [],
   "source": [
    "import requests\n",
    "\n",
    "UrlDonneeChroniqueTR = \"https://ades.eaufrance.fr/Fiche/MesureGraphSpliAnnee?CodeBSS=07228X0017/PZF&Annees=2023&Couple=3&DateMax=15%2F06%2F2023\"\n"
   ]
  },
  {
   "cell_type": "markdown",
   "source": [
    "On récupère la réponse du serveur"
   ],
   "metadata": {
    "collapsed": false
   }
  },
  {
   "cell_type": "code",
   "execution_count": 17,
   "outputs": [
    {
     "name": "stdout",
     "output_type": "stream",
     "text": [
      "\"{x : Date.UTC(2000,0,1,0,1), y :216},{x : Date.UTC(2000,1,1,0,1), y :215.94},{x : Date.UTC(2000,2,1,0,1), y :215.91},{x : Date.UTC(2000,3,1,0,1), y :215.92},{x : Date.UTC(2000,4,1,0,1), y :215.87},{x : Date.UTC(2000,5,1,0,1), y :215.83},{x : Date.UTC(2000,6,1,0,1), y : null },{x : Date.UTC(2000,7,1,0,1), y : null },{x : Date.UTC(2000,8,1,0,1), y : null },{x : Date.UTC(2000,9,1,0,1), y : null },{x : Date.UTC(2000,10,1,0,1), y : null },{x : Date.UTC(2000,11,1,0,1), y : null }\"\n"
     ]
    }
   ],
   "source": [
    "payload = {}\n",
    "DonneeChroniqueTR = requests.request(\"GET\", UrlDonneeChroniqueTR, headers=\"\", data=payload)\n",
    "print(DonneeChroniqueTR.text)"
   ],
   "metadata": {
    "collapsed": false,
    "ExecuteTime": {
     "end_time": "2023-06-24T15:40:23.993388Z",
     "start_time": "2023-06-24T15:40:23.875881Z"
    }
   }
  },
  {
   "cell_type": "markdown",
   "source": [
    "## Traitement des données\n",
    "Tout d'abord il faut transformer les données brut en format json"
   ],
   "metadata": {
    "collapsed": false
   }
  },
  {
   "cell_type": "code",
   "execution_count": 18,
   "outputs": [
    {
     "name": "stdout",
     "output_type": "stream",
     "text": [
      "{x : Date.UTC(2000,0,1,0,1), y :216},{x : Date.UTC(2000,1,1,0,1), y :215.94},{x : Date.UTC(2000,2,1,0,1), y :215.91},{x : Date.UTC(2000,3,1,0,1), y :215.92},{x : Date.UTC(2000,4,1,0,1), y :215.87},{x : Date.UTC(2000,5,1,0,1), y :215.83},{x : Date.UTC(2000,6,1,0,1), y : null },{x : Date.UTC(2000,7,1,0,1), y : null },{x : Date.UTC(2000,8,1,0,1), y : null },{x : Date.UTC(2000,9,1,0,1), y : null },{x : Date.UTC(2000,10,1,0,1), y : null },{x : Date.UTC(2000,11,1,0,1), y : null }\n"
     ]
    }
   ],
   "source": [
    "import json\n",
    "JsonDonneeChroniqueTR = json.loads(DonneeChroniqueTR.text)\n",
    "print(JsonDonneeChroniqueTR)"
   ],
   "metadata": {
    "collapsed": false,
    "ExecuteTime": {
     "end_time": "2023-06-24T15:40:23.996872Z",
     "start_time": "2023-06-24T15:40:23.994429Z"
    }
   }
  },
  {
   "cell_type": "markdown",
   "source": [
    "On souhaite mettre les données sous forme d'un dictionnaire Mois-Mesure.\n",
    "On commence par découper les données avec la fonction `split()`.\n",
    "\n",
    "Ensuite on cast les valeurs de mesure en `float` avant de les rajouter dans le dictionnaire `Data`. À la fin du traitement de l'année, on met le dictionnaire `Data` dans le dictionnaire `finalData` à laquel on associe la clé de  l'année des mesures."
   ],
   "metadata": {
    "collapsed": false
   }
  },
  {
   "cell_type": "code",
   "execution_count": 19,
   "outputs": [
    {
     "name": "stdout",
     "output_type": "stream",
     "text": [
      "{'2023': {'Janvier': 216.0, 'Fevrier': 215.94, 'Mars': 215.91, 'Avril': 215.92, 'Mai': 215.87, 'Juin': 215.83, 'Juillet': None, 'Aout': None, 'Septembre': None, 'Octobre': None, 'Novembre': None, 'Decembre': None}}\n"
     ]
    }
   ],
   "source": [
    "import re\n",
    "\n",
    "# Séparation des mesures et suppressions des accolades fermantes\n",
    "TabDonneeChroniqueTR_1 = JsonDonneeChroniqueTR.split(\"}\")\n",
    "\n",
    "# Initialisation des objets\n",
    "# Initialisation du tableau des mois afin de les ajouté comme clé du dictionnaire Data.\n",
    "mois = [\"Janvier\",\"Fevrier\",\"Mars\",\"Avril\",\"Mai\",\"Juin\",\"Juillet\",\"Aout\",\"Septembre\",\"Octobre\", \"Novembre\",\"Decembre\"]\n",
    "Data = {}\n",
    "finalData = {}\n",
    "\n",
    "\n",
    "for i in range (len(TabDonneeChroniqueTR_1)) :\n",
    "    # On passe au second niveau de regex, ici on enlève les accolades ouvrantes\n",
    "    # L'expression de la première mesure commence par '{' et non pas par ',{' comme les autres, il faut donc ajouter une condition spéciale pour le premier élément.\n",
    "    if TabDonneeChroniqueTR_1[i] == TabDonneeChroniqueTR_1[0]:\n",
    "        # Grâce à l'expression Regex, on supprime l'accolade fermante du premier élément.\n",
    "        DonneesTransformees = re.sub('[{]','', TabDonneeChroniqueTR_1[i])\n",
    "    else:\n",
    "        # On fait ceci pour chaque mesure donnée.\n",
    "        DonneesTransformees = re.sub('[,]+[{]','', TabDonneeChroniqueTR_1[i])\n",
    "    # Avec les opérations RegEx, le dernier élément est [''], on fait en sorte que ce résultat n'entre pas en compte dans les résultats finaux.\n",
    "    if (DonneesTransformees!=''):\n",
    "        # Séparation clé-valeur\n",
    "        DonneesTransformees = DonneesTransformees.split(\", \")\n",
    "        DonneesTransformees_1 = DonneesTransformees[1].split(\":\")\n",
    "        # On enlève les espaces et les blancs inutiles\n",
    "        DonneesTransformees_1[1] = DonneesTransformees_1[1].replace(' ','')\n",
    "        # Les mesures des mois ultérieurs à la date d'aujourd'hui sont \"Null\", s'il le sont, on remplace la chaine de caractère par la \"valeur\" None.\n",
    "        if (DonneesTransformees_1[1] != \"null\"):\n",
    "            Data [mois[i]] = float(DonneesTransformees_1[1])\n",
    "        else :\n",
    "            Data [mois[i]] = None\n",
    "\n",
    "# On ajoute, ici pour l'exemple donc or boucle, les résultats dans le dictionnaire finalData avec la clé \"2023\"\n",
    "finalData[\"2023\"]=Data\n",
    "print(finalData)"
   ],
   "metadata": {
    "collapsed": false,
    "ExecuteTime": {
     "end_time": "2023-06-24T15:40:24.001740Z",
     "start_time": "2023-06-24T15:40:23.999563Z"
    }
   }
  },
  {
   "cell_type": "markdown",
   "source": [
    "# II. Importation des données IPS\n",
    "Les données IPS sont les données lié aux critères permettant de classer les nappes phréatiques sur une échelle de 5 :\n",
    "- Niveaux très hauts (Bleu marine)\n",
    "- Niveaux hauts (Bleu France)\n",
    "- Niveaux modérément hauts (Cyan)\n",
    "- Niveaux autour de la moyenne (Vert)\n",
    "- Niveaux modérément bas (jaune)\n",
    "- Niveaux bas (orange)\n",
    "- Niveaux très bas (rouge)\n",
    "\n",
    "L'url est : **https://ades.eaufrance.fr/Fiche/MesureGraphSpliTabPeriode**\n",
    "\n",
    "Les paramètres sont :\n",
    "- Le code BSS : *obligatoire, Exemple : 07228X0017/PZF*\n",
    "- La date de début : *obligatoire, Exemple : 01/01/2022*\n",
    "- La date de fin : *obligatoire, Exemple : 01/01/2023*\n",
    "- Le couple : *par défaut 3*"
   ],
   "metadata": {
    "collapsed": false
   }
  },
  {
   "cell_type": "code",
   "execution_count": 20,
   "outputs": [],
   "source": [
    "UrlDonneeIPS = \"https://ades.eaufrance.fr/Fiche/MesureGraphSpliTabPeriode?CodeBSS=07228X0017/PZF&DateDebut=26%2F06%2F1992&DateFin=15%2F06%2F2023&Couple=3&_=1687102433152\""
   ],
   "metadata": {
    "collapsed": false,
    "ExecuteTime": {
     "end_time": "2023-06-24T15:40:24.004724Z",
     "start_time": "2023-06-24T15:40:24.002990Z"
    }
   }
  },
  {
   "cell_type": "markdown",
   "source": [
    "On récupère la réponse du serveur"
   ],
   "metadata": {
    "collapsed": false
   }
  },
  {
   "cell_type": "code",
   "execution_count": 21,
   "outputs": [],
   "source": [
    "payload_1 = {}\n",
    "DonneeIPS = requests.request(\"GET\", UrlDonneeIPS, headers=\"\", data=payload_1)"
   ],
   "metadata": {
    "collapsed": false,
    "ExecuteTime": {
     "end_time": "2023-06-24T15:40:25.368460Z",
     "start_time": "2023-06-24T15:40:24.005640Z"
    }
   }
  },
  {
   "cell_type": "markdown",
   "source": [
    "## Traitement des données\n",
    "De même que pour les données piezométriques, on transforme les données en json"
   ],
   "metadata": {
    "collapsed": false
   }
  },
  {
   "cell_type": "code",
   "execution_count": 22,
   "outputs": [],
   "source": [
    "JsonDonneeIPS = json.loads(DonneeIPS.text)"
   ],
   "metadata": {
    "collapsed": false,
    "ExecuteTime": {
     "end_time": "2023-06-24T15:40:25.371440Z",
     "start_time": "2023-06-24T15:40:25.369002Z"
    }
   }
  },
  {
   "cell_type": "markdown",
   "source": [
    "On transforme les données json en un dictionnaire Mois-Niveau"
   ],
   "metadata": {
    "collapsed": false
   }
  },
  {
   "cell_type": "code",
   "execution_count": 23,
   "outputs": [],
   "source": [
    "# Initialisation du dictionnaire\n",
    "month_by_level = {}\n",
    "\n",
    "# Les données JSON contiennent d'autre élément que les mesures, ici ces éléments sont répertoriés.\n",
    "Not_Numerical_Data = [\"DT_RowId\",\"quantile\",\"annee\",\"Initial\",\"Coche\"]\n",
    "\n",
    "# Pour chaque élément de l'élément \"data\" de JsonDonneIPS\n",
    "for i in JsonDonneeIPS['data']:\n",
    "    # On initialise un dictionnaire qui contiendra en clé le mois et en valeur le niveau de ce mois.\n",
    "    LevelMonth = {}\n",
    "\n",
    "    # i est un dictionnaire contenant notamment le mois et la valeur correspondante sour la forme {Mois:Janvier,Valeur:180.8}\n",
    "    for x in i :\n",
    "        # Ce qui nous interesse est seulement le nom du mois et sa valeur, toutes les clés contenu dans la liste Not_Numerical_Data ne sont pas considéré utile.\n",
    "        if (x not in Not_Numerical_Data):\n",
    "            # On ajoute au dictionnaire LevelMonth le couple Mois-Niveau\n",
    "            LevelMonth[x] = float(i[x])\n",
    "    # On ajoute au dictionnaire month_by_level Le couple Quantile(c.à.d le niveau)-{Mois-Niveau}\n",
    "    month_by_level[i['quantile']]=LevelMonth"
   ],
   "metadata": {
    "collapsed": false,
    "ExecuteTime": {
     "end_time": "2023-06-24T15:40:25.374864Z",
     "start_time": "2023-06-24T15:40:25.372762Z"
    }
   }
  },
  {
   "cell_type": "markdown",
   "source": [
    "Une fois ceci fait, nous avons alors les données triées selon le niveau. Chaque niveau contient les 12 mois avec les valeurs limites de niveau qui leur sont associées.\n",
    "Cependant, il serait plus intéressant que les données soient triées par mois, tel que chaque moi contienne les mesures limites des 5 niveaux. Cela permettrait de faire des comparaisons entre les mois sans devoir parcourir toutes les données."
   ],
   "metadata": {
    "collapsed": false
   }
  },
  {
   "cell_type": "code",
   "execution_count": 28,
   "outputs": [
    {
     "name": "stdout",
     "output_type": "stream",
     "text": [
      "Janvier\n",
      "{'Niveaux très bas': 215.86, 'Niveaux bas': 215.96, 'Niveaux modérément bas': 216.1, 'Niveaux autour de la moyenne': 216.18, 'Niveaux modérément hauts': 216.26, 'Niveaux hauts': 216.59, 'Niveaux très haut': 216.92}\n",
      "Fevrier\n",
      "{'Niveaux très bas': 215.94, 'Niveaux bas': 216.02, 'Niveaux modérément bas': 216.15, 'Niveaux autour de la moyenne': 216.21, 'Niveaux modérément hauts': 216.29, 'Niveaux hauts': 216.62, 'Niveaux très haut': 217.36}\n",
      "Mars\n",
      "{'Niveaux très bas': 215.93, 'Niveaux bas': 216.02, 'Niveaux modérément bas': 216.15, 'Niveaux autour de la moyenne': 216.22, 'Niveaux modérément hauts': 216.3, 'Niveaux hauts': 216.62, 'Niveaux très haut': 217.34}\n",
      "Avril\n",
      "{'Niveaux très bas': 215.91, 'Niveaux bas': 216.0, 'Niveaux modérément bas': 216.14, 'Niveaux autour de la moyenne': 216.21, 'Niveaux modérément hauts': 216.28, 'Niveaux hauts': 216.53, 'Niveaux très haut': 216.87}\n",
      "Mai\n",
      "{'Niveaux très bas': 215.87, 'Niveaux bas': 215.98, 'Niveaux modérément bas': 216.14, 'Niveaux autour de la moyenne': 216.22, 'Niveaux modérément hauts': 216.31, 'Niveaux hauts': 216.58, 'Niveaux très haut': 216.75}\n",
      "Juin\n",
      "{'Niveaux très bas': 215.83, 'Niveaux bas': 215.95, 'Niveaux modérément bas': 216.13, 'Niveaux autour de la moyenne': 216.22, 'Niveaux modérément hauts': 216.31, 'Niveaux hauts': 216.51, 'Niveaux très haut': 216.68}\n",
      "Juillet\n",
      "{'Niveaux très bas': 215.84, 'Niveaux bas': 215.94, 'Niveaux modérément bas': 216.1, 'Niveaux autour de la moyenne': 216.17, 'Niveaux modérément hauts': 216.25, 'Niveaux hauts': 216.45, 'Niveaux très haut': 216.59}\n",
      "Aout\n",
      "{'Niveaux très bas': 215.79, 'Niveaux bas': 215.87, 'Niveaux modérément bas': 216.0, 'Niveaux autour de la moyenne': 216.06, 'Niveaux modérément hauts': 216.12, 'Niveaux hauts': 216.3, 'Niveaux très haut': 216.43}\n",
      "Septembre\n",
      "{'Niveaux très bas': 215.75, 'Niveaux bas': 215.84, 'Niveaux modérément bas': 215.98, 'Niveaux autour de la moyenne': 216.04, 'Niveaux modérément hauts': 216.12, 'Niveaux hauts': 216.3, 'Niveaux très haut': 216.42}\n",
      "Octobre\n",
      "{'Niveaux très bas': 215.76, 'Niveaux bas': 215.85, 'Niveaux modérément bas': 215.99, 'Niveaux autour de la moyenne': 216.05, 'Niveaux modérément hauts': 216.13, 'Niveaux hauts': 216.35, 'Niveaux très haut': 216.53}\n",
      "Novembre\n",
      "{'Niveaux très bas': 215.83, 'Niveaux bas': 215.9, 'Niveaux modérément bas': 216.01, 'Niveaux autour de la moyenne': 216.06, 'Niveaux modérément hauts': 216.13, 'Niveaux hauts': 216.33, 'Niveaux très haut': 216.5}\n",
      "Decembre\n",
      "{'Niveaux très bas': 215.85, 'Niveaux bas': 215.93, 'Niveaux modérément bas': 216.06, 'Niveaux autour de la moyenne': 216.12, 'Niveaux modérément hauts': 216.19, 'Niveaux hauts': 216.51, 'Niveaux très haut': 216.74}\n"
     ]
    }
   ],
   "source": [
    "# Initialisation du dictionnaire\n",
    "level_by_month = {}\n",
    "\n",
    "# On récupère la liste des mois\n",
    "for i in month_by_level[list(month_by_level.keys())[0]]:\n",
    "    # On initialise le dictionnaire qui contiendra les couples quantiles-mesures\n",
    "    months = {}\n",
    "    #\n",
    "    i1 = i[0].upper()+i[1:]\n",
    "    for x in month_by_level:\n",
    "        months [x] = month_by_level[x][i]\n",
    "    level_by_month[i1] = months\n",
    "for i in level_by_month:\n",
    "    print(i)\n",
    "    # On inverse le dictionnaire, cette opération est nécessaire pour la suite, car nous allons comparer les valeurs du dictionnaire avec les valeurs IPS qui sont les limites supérieurs des niveaux d'eau.\n",
    "    # C'est à dire que pour chaque donnée de niveau, la valeur IPS est la valeur supérieure, ce qui est par exemple entre les valeurs IPS du Niveau bas et du Niveau modérément bas est considéré comme Niveau modérément bas.\n",
    "    level_by_month[i] = dict(reversed(list(level_by_month[i].items())))\n",
    "    print(level_by_month[i])"
   ],
   "metadata": {
    "collapsed": false,
    "ExecuteTime": {
     "end_time": "2023-06-24T15:47:25.783932Z",
     "start_time": "2023-06-24T15:47:25.772934Z"
    }
   }
  },
  {
   "cell_type": "code",
   "execution_count": 30,
   "outputs": [
    {
     "name": "stdout",
     "output_type": "stream",
     "text": [
      "Niveau actuelle 216.0\n",
      "En  2023  au mois de  Janvier  le niveau est  Niveaux modérément bas\n",
      "Niveau actuelle 215.94\n",
      "En  2023  au mois de  Fevrier  le niveau est  Niveaux très bas\n",
      "Niveau actuelle 215.91\n",
      "En  2023  au mois de  Mars  le niveau est  Niveaux très bas\n",
      "Niveau actuelle 215.92\n",
      "En  2023  au mois de  Avril  le niveau est  Niveaux bas\n",
      "Niveau actuelle 215.87\n",
      "En  2023  au mois de  Mai  le niveau est  Niveaux très bas\n",
      "Niveau actuelle 215.83\n",
      "En  2023  au mois de  Juin  le niveau est  Niveaux très bas\n"
     ]
    }
   ],
   "source": [
    "for x in finalData:\n",
    "    # x = {'Janvier': 708.57, 'Février': 708.38, 'Mars': 708.58, 'Avril': 708.56, 'Mai': 708.43, 'Juin': 708.37, 'Juillet': None, 'Août': None, 'Septembre': None, 'Octobre': None, 'Novembre': None, 'Décembre': None}\n",
    "    for i in finalData[x]:\n",
    "        # i = 'Janvier'\n",
    "        for y in level_by_month[i]:\n",
    "            # y = {'Niveaux très haut': 708.44, 'Niveaux hauts': 708.39, 'Niveaux modérément hauts': 708.32, 'Niveaux autour de la moyenne': 708.29, 'Niveaux modérément bas': 708.27, 'Niveaux bas': 708.22, 'Niveaux très bas': 708.18}\n",
    "            if (finalData[x][i] != None):\n",
    "                if (finalData[x][i] > level_by_month[i][y]):\n",
    "                    pass\n",
    "                else:\n",
    "                    print (\"En \",x,\" au mois de \",i,\" le niveau est \",y)\n",
    "                    break"
   ],
   "metadata": {
    "collapsed": false,
    "ExecuteTime": {
     "end_time": "2023-06-24T15:48:06.230991Z",
     "start_time": "2023-06-24T15:48:06.225477Z"
    }
   }
  },
  {
   "cell_type": "code",
   "execution_count": 25,
   "outputs": [],
   "source": [],
   "metadata": {
    "collapsed": false,
    "ExecuteTime": {
     "end_time": "2023-06-24T15:40:25.386156Z",
     "start_time": "2023-06-24T15:40:25.384345Z"
    }
   }
  }
 ],
 "metadata": {
  "kernelspec": {
   "display_name": "Python 3",
   "language": "python",
   "name": "python3"
  },
  "language_info": {
   "codemirror_mode": {
    "name": "ipython",
    "version": 2
   },
   "file_extension": ".py",
   "mimetype": "text/x-python",
   "name": "python",
   "nbconvert_exporter": "python",
   "pygments_lexer": "ipython2",
   "version": "2.7.6"
  }
 },
 "nbformat": 4,
 "nbformat_minor": 0
}
