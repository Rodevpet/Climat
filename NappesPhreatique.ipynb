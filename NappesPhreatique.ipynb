{
 "cells": [
  {
   "cell_type": "markdown",
   "source": [
    "# États des nappes phréatiques françaises\n",
    "\n",
    "## Introduction\n",
    "En 2023, le changement climatique provoque de plus en plus de sécheresse, il augmente par ailleurs les intensités des canicules et réduit les fréquences des phénomènes pluvieux. Ces phénomènes ont un impact sur les nappes phréatiques françaises. En effet, les nappes phréatiques sont des réservoirs d'eau souterrains qui se remplissent grâce aux précipitations et se vident grâce aux prélèvements. Les nappes phréatiques sont donc un indicateur de la sécheresse. L'objectif de ce projet est de déterminer l'état des nappes phréatiques françaises en 2023. Pour cela, nous allons utiliser les données de l'Agence de l'eau qui sont accessible en *open source*. Le but est d'analysé le niveau actuelle des nappes phréatiques et de le comparer avec les niveaux limites, ainsi nous pourrons déterminer l'état des nappes phréatiques en temps réels si les mesures sont faites régulièrement.\n",
    "\n",
    "### Les mesures\n",
    "Les mesures sont le calcul du niveau d'eau dans les nappes phréatiques, ces mesures peuvent être exprimé selon le NGF (nivellement général français) ou bien selon la profondeur relative du niveau d'eau par rapport au sol. Les mesures sont réalisée grâce un appareil de mesure appelée un piezomètre.\n",
    "\n",
    "Les données sont disponibles sur le site ades.eaufrance.fr. Les nappes phréatiques sont identifié par un code BSS unique. Ce code est nécessaire pour toute les requêtes envoyées au serveur afin qu'il puisse identifié la nappe sur laquel nous souhaitons récupérer des informations.\n",
    "\n",
    "Les données sont ensuite comparée à leur IPS (indicateur piézométrique standardisé) afin d'avoir des critères de niveau d'eau relatif à chaque nappe.\n",
    "\n",
    "\n",
    "> *Les indicateurs piézométriques ont un rôle essentiel dans la gestion locale de la ressource en eau. Toutefois la diversité des critères utilisés pour leur détermination ne permet pas d’avoir une vision homogène de l’impact d’un déficit pluviométrique sur l’état des nappes libres à l’échelle nationale, contrairement à d'autres indicateurs. C’est ce qui a motivé la création de l'IPS (Indicateur Piézométrique Standardisé), qui permet d'avoir une vision homogène de l'état des nappes libres ou captives à l'échelle nationale.*\n",
    "\n",
    "Voir [l'article sur le site du brgm](https://www.brgm.fr/fr/reference-projet-acheve/indicateur-piezometrique-standardise-ips-gestion-ressource-eau) pour plus d'information sur l'IPS."
   ],
   "metadata": {
    "collapsed": false
   }
  },
  {
   "cell_type": "markdown",
   "source": [
    "# I. Importation des données chronique et en temps réel\n",
    "Tout d'abord une requête est envoyé au serveur.\n",
    "L'url est : **https://ades.eaufrance.fr/Fiche/MesureGraphSpliAnnee**\n",
    "\n",
    "Les paramètres sont :\n",
    "- Le code BSS : *obligatoire, Exemple : 07228X0017/PZF*\n",
    "- Année : *obligatoire*\n",
    "- DateMax : *obligatoie, Exemple : 01/01/2023*"
   ],
   "metadata": {
    "collapsed": false
   }
  },
  {
   "cell_type": "code",
   "execution_count": 31,
   "metadata": {
    "collapsed": true,
    "ExecuteTime": {
     "end_time": "2023-06-24T20:35:56.149425Z",
     "start_time": "2023-06-24T20:35:56.116334Z"
    }
   },
   "outputs": [],
   "source": [
    "import requests\n",
    "\n",
    "UrlDonneeChroniqueTR = \"https://ades.eaufrance.fr/Fiche/MesureGraphSpliAnnee?CodeBSS=07228X0017/PZF&Annees=2023&Couple=3&DateMax=15%2F06%2F2023\"\n"
   ]
  },
  {
   "cell_type": "markdown",
   "source": [
    "On récupère la réponse du serveur"
   ],
   "metadata": {
    "collapsed": false
   }
  },
  {
   "cell_type": "code",
   "execution_count": 32,
   "outputs": [
    {
     "name": "stdout",
     "output_type": "stream",
     "text": [
      "\"{x : Date.UTC(2000,0,1,0,1), y :216},{x : Date.UTC(2000,1,1,0,1), y :215.94},{x : Date.UTC(2000,2,1,0,1), y :215.91},{x : Date.UTC(2000,3,1,0,1), y :215.92},{x : Date.UTC(2000,4,1,0,1), y :215.87},{x : Date.UTC(2000,5,1,0,1), y :215.83},{x : Date.UTC(2000,6,1,0,1), y : null },{x : Date.UTC(2000,7,1,0,1), y : null },{x : Date.UTC(2000,8,1,0,1), y : null },{x : Date.UTC(2000,9,1,0,1), y : null },{x : Date.UTC(2000,10,1,0,1), y : null },{x : Date.UTC(2000,11,1,0,1), y : null }\"\n"
     ]
    }
   ],
   "source": [
    "payload = {}\n",
    "DonneeChroniqueTR = requests.request(\"GET\", UrlDonneeChroniqueTR, headers=\"\", data=payload)\n",
    "print(DonneeChroniqueTR.text)"
   ],
   "metadata": {
    "collapsed": false,
    "ExecuteTime": {
     "end_time": "2023-06-24T20:35:56.303487Z",
     "start_time": "2023-06-24T20:35:56.120462Z"
    }
   }
  },
  {
   "cell_type": "markdown",
   "source": [
    "## Traitement des données\n",
    "Tout d'abord il faut transformer les données brut en format json"
   ],
   "metadata": {
    "collapsed": false
   }
  },
  {
   "cell_type": "code",
   "execution_count": 33,
   "outputs": [
    {
     "name": "stdout",
     "output_type": "stream",
     "text": [
      "{x : Date.UTC(2000,0,1,0,1), y :216},{x : Date.UTC(2000,1,1,0,1), y :215.94},{x : Date.UTC(2000,2,1,0,1), y :215.91},{x : Date.UTC(2000,3,1,0,1), y :215.92},{x : Date.UTC(2000,4,1,0,1), y :215.87},{x : Date.UTC(2000,5,1,0,1), y :215.83},{x : Date.UTC(2000,6,1,0,1), y : null },{x : Date.UTC(2000,7,1,0,1), y : null },{x : Date.UTC(2000,8,1,0,1), y : null },{x : Date.UTC(2000,9,1,0,1), y : null },{x : Date.UTC(2000,10,1,0,1), y : null },{x : Date.UTC(2000,11,1,0,1), y : null }\n"
     ]
    }
   ],
   "source": [
    "import json\n",
    "JsonDonneeChroniqueTR = json.loads(DonneeChroniqueTR.text)\n",
    "print(JsonDonneeChroniqueTR)"
   ],
   "metadata": {
    "collapsed": false,
    "ExecuteTime": {
     "end_time": "2023-06-24T20:35:56.306958Z",
     "start_time": "2023-06-24T20:35:56.304691Z"
    }
   }
  },
  {
   "cell_type": "markdown",
   "source": [
    "On souhaite mettre les données sous forme d'un dictionnaire Mois-Mesure.\n",
    "On commence par découper les données avec la fonction `split()`.\n",
    "\n",
    "Ensuite on cast les valeurs de mesure en `float` avant de les rajouter dans le dictionnaire `Data`. À la fin du traitement de l'année, on met le dictionnaire `Data` dans le dictionnaire `finalData` à laquel on associe la clé de  l'année des mesures."
   ],
   "metadata": {
    "collapsed": false
   }
  },
  {
   "cell_type": "code",
   "execution_count": 34,
   "outputs": [
    {
     "name": "stdout",
     "output_type": "stream",
     "text": [
      "{'2023': {'Janvier': 216.0, 'Fevrier': 215.94, 'Mars': 215.91, 'Avril': 215.92, 'Mai': 215.87, 'Juin': 215.83, 'Juillet': None, 'Aout': None, 'Septembre': None, 'Octobre': None, 'Novembre': None, 'Decembre': None}}\n"
     ]
    }
   ],
   "source": [
    "import re\n",
    "\n",
    "# Séparation des mesures et suppressions des accolades fermantes\n",
    "TabDonneeChroniqueTR_1 = JsonDonneeChroniqueTR.split(\"}\")\n",
    "\n",
    "# Initialisation des objets\n",
    "# Initialisation du tableau des mois afin de les ajouté comme clé du dictionnaire Data.\n",
    "mois = [\"Janvier\",\"Fevrier\",\"Mars\",\"Avril\",\"Mai\",\"Juin\",\"Juillet\",\"Aout\",\"Septembre\",\"Octobre\", \"Novembre\",\"Decembre\"]\n",
    "Data = {}\n",
    "finalData = {}\n",
    "\n",
    "\n",
    "for i in range (len(TabDonneeChroniqueTR_1)) :\n",
    "    # On passe au second niveau de regex, ici on enlève les accolades ouvrantes\n",
    "    # L'expression de la première mesure commence par '{' et non pas par ',{' comme les autres, il faut donc ajouter une condition spéciale pour le premier élément.\n",
    "    if TabDonneeChroniqueTR_1[i] == TabDonneeChroniqueTR_1[0]:\n",
    "        # Grâce à l'expression Regex, on supprime l'accolade fermante du premier élément.\n",
    "        DonneesTransformees = re.sub('[{]','', TabDonneeChroniqueTR_1[i])\n",
    "    else:\n",
    "        # On fait ceci pour chaque mesure donnée.\n",
    "        DonneesTransformees = re.sub('[,]+[{]','', TabDonneeChroniqueTR_1[i])\n",
    "    # Avec les opérations RegEx, le dernier élément est [''], on fait en sorte que ce résultat n'entre pas en compte dans les résultats finaux.\n",
    "    if (DonneesTransformees!=''):\n",
    "        # Séparation clé-valeur\n",
    "        DonneesTransformees = DonneesTransformees.split(\", \")\n",
    "        DonneesTransformees_1 = DonneesTransformees[1].split(\":\")\n",
    "        # On enlève les espaces et les blancs inutiles\n",
    "        DonneesTransformees_1[1] = DonneesTransformees_1[1].replace(' ','')\n",
    "        # Les mesures des mois ultérieurs à la date d'aujourd'hui sont \"Null\", s'il le sont, on remplace la chaine de caractère par la \"valeur\" None.\n",
    "        if (DonneesTransformees_1[1] != \"null\"):\n",
    "            Data [mois[i]] = float(DonneesTransformees_1[1])\n",
    "        else :\n",
    "            Data [mois[i]] = None\n",
    "\n",
    "# On ajoute, ici pour l'exemple donc or boucle, les résultats dans le dictionnaire finalData avec la clé \"2023\"\n",
    "finalData[\"2023\"]=Data\n",
    "print(finalData)"
   ],
   "metadata": {
    "collapsed": false,
    "ExecuteTime": {
     "end_time": "2023-06-24T20:35:56.311534Z",
     "start_time": "2023-06-24T20:35:56.309647Z"
    }
   }
  },
  {
   "cell_type": "markdown",
   "source": [
    "# II. Importation des données IPS\n",
    "Les données IPS sont les données lié aux critères permettant de classer les nappes phréatiques sur une échelle de 5 :\n",
    "- Niveaux très hauts (Bleu marine)\n",
    "- Niveaux hauts (Bleu France)\n",
    "- Niveaux modérément hauts (Cyan)\n",
    "- Niveaux autour de la moyenne (Vert)\n",
    "- Niveaux modérément bas (jaune)\n",
    "- Niveaux bas (orange)\n",
    "- Niveaux très bas (rouge)\n",
    "\n",
    "L'url est : **https://ades.eaufrance.fr/Fiche/MesureGraphSpliTabPeriode**\n",
    "\n",
    "Les paramètres sont :\n",
    "- Le code BSS : *obligatoire, Exemple : 07228X0017/PZF*\n",
    "- La date de début : *obligatoire, Exemple : 01/01/2022*\n",
    "- La date de fin : *obligatoire, Exemple : 01/01/2023*\n",
    "- Le couple : *par défaut 3*"
   ],
   "metadata": {
    "collapsed": false
   }
  },
  {
   "cell_type": "code",
   "execution_count": 35,
   "outputs": [],
   "source": [
    "UrlDonneeIPS = \"https://ades.eaufrance.fr/Fiche/MesureGraphSpliTabPeriode?CodeBSS=07228X0017/PZF&DateDebut=26%2F06%2F1992&DateFin=15%2F06%2F2023&Couple=3&_=1687102433152\""
   ],
   "metadata": {
    "collapsed": false,
    "ExecuteTime": {
     "end_time": "2023-06-24T20:35:56.315016Z",
     "start_time": "2023-06-24T20:35:56.313505Z"
    }
   }
  },
  {
   "cell_type": "markdown",
   "source": [
    "On récupère la réponse du serveur"
   ],
   "metadata": {
    "collapsed": false
   }
  },
  {
   "cell_type": "code",
   "execution_count": 36,
   "outputs": [],
   "source": [
    "payload_1 = {}\n",
    "DonneeIPS = requests.request(\"GET\", UrlDonneeIPS, headers=\"\", data=payload_1)"
   ],
   "metadata": {
    "collapsed": false,
    "ExecuteTime": {
     "end_time": "2023-06-24T20:36:02.853502Z",
     "start_time": "2023-06-24T20:35:56.315894Z"
    }
   }
  },
  {
   "cell_type": "markdown",
   "source": [
    "## Traitement des données\n",
    "De même que pour les données piezométriques, on transforme les données en json"
   ],
   "metadata": {
    "collapsed": false
   }
  },
  {
   "cell_type": "code",
   "execution_count": 37,
   "outputs": [],
   "source": [
    "JsonDonneeIPS = json.loads(DonneeIPS.text)"
   ],
   "metadata": {
    "collapsed": false,
    "ExecuteTime": {
     "end_time": "2023-06-24T20:36:02.856607Z",
     "start_time": "2023-06-24T20:36:02.854142Z"
    }
   }
  },
  {
   "cell_type": "markdown",
   "source": [
    "On transforme les données json en un dictionnaire Mois-Niveau"
   ],
   "metadata": {
    "collapsed": false
   }
  },
  {
   "cell_type": "code",
   "execution_count": 46,
   "outputs": [
    {
     "name": "stdout",
     "output_type": "stream",
     "text": [
      "{'Niveaux très haut': {'janvier': 216.92, 'fevrier': 217.36, 'mars': 217.34, 'avril': 216.87, 'mai': 216.75, 'juin': 216.68, 'juillet': 216.59, 'aout': 216.43, 'septembre': 216.42, 'octobre': 216.53, 'novembre': 216.5, 'decembre': 216.74}, 'Niveaux hauts': {'janvier': 216.59, 'fevrier': 216.62, 'mars': 216.62, 'avril': 216.53, 'mai': 216.58, 'juin': 216.51, 'juillet': 216.45, 'aout': 216.3, 'septembre': 216.3, 'octobre': 216.35, 'novembre': 216.33, 'decembre': 216.51}, 'Niveaux modérément hauts': {'janvier': 216.26, 'fevrier': 216.29, 'mars': 216.3, 'avril': 216.28, 'mai': 216.31, 'juin': 216.31, 'juillet': 216.25, 'aout': 216.12, 'septembre': 216.12, 'octobre': 216.13, 'novembre': 216.13, 'decembre': 216.19}, 'Niveaux autour de la moyenne': {'janvier': 216.18, 'fevrier': 216.21, 'mars': 216.22, 'avril': 216.21, 'mai': 216.22, 'juin': 216.22, 'juillet': 216.17, 'aout': 216.06, 'septembre': 216.04, 'octobre': 216.05, 'novembre': 216.06, 'decembre': 216.12}, 'Niveaux modérément bas': {'janvier': 216.1, 'fevrier': 216.15, 'mars': 216.15, 'avril': 216.14, 'mai': 216.14, 'juin': 216.13, 'juillet': 216.1, 'aout': 216.0, 'septembre': 215.98, 'octobre': 215.99, 'novembre': 216.01, 'decembre': 216.06}, 'Niveaux bas': {'janvier': 215.96, 'fevrier': 216.02, 'mars': 216.02, 'avril': 216.0, 'mai': 215.98, 'juin': 215.95, 'juillet': 215.94, 'aout': 215.87, 'septembre': 215.84, 'octobre': 215.85, 'novembre': 215.9, 'decembre': 215.93}, 'Niveaux très bas': {'janvier': 215.86, 'fevrier': 215.94, 'mars': 215.93, 'avril': 215.91, 'mai': 215.87, 'juin': 215.83, 'juillet': 215.84, 'aout': 215.79, 'septembre': 215.75, 'octobre': 215.76, 'novembre': 215.83, 'decembre': 215.85}}\n"
     ]
    }
   ],
   "source": [
    "# Initialisation du dictionnaire\n",
    "month_by_level = {}\n",
    "\n",
    "# Les données JSON contiennent d'autre élément que les mesures, ici ces éléments sont répertoriés.\n",
    "Not_Numerical_Data = [\"DT_RowId\",\"quantile\",\"annee\",\"Initial\",\"Coche\"]\n",
    "\n",
    "# Pour chaque élément de l'élément \"data\" de JsonDonneIPS\n",
    "for i in JsonDonneeIPS['data']:\n",
    "    # On initialise un dictionnaire qui contiendra en clé le mois et en valeur le niveau de ce mois.\n",
    "    LevelMonth = {}\n",
    "\n",
    "    # i est un dictionnaire contenant notamment le mois et la valeur correspondante sour la forme {Mois:Janvier,Valeur:180.8}\n",
    "    for x in i :\n",
    "        # Ce qui nous interesse est seulement le nom du mois et sa valeur, toutes les clés contenu dans la liste Not_Numerical_Data ne sont pas considéré utile.\n",
    "        if (x not in Not_Numerical_Data):\n",
    "            # On ajoute au dictionnaire LevelMonth le couple Mois-Niveau\n",
    "            LevelMonth[x] = float(i[x])\n",
    "    # On ajoute au dictionnaire month_by_level Le couple Quantile(c.à.d le niveau)-{Mois-Niveau}\n",
    "    month_by_level[i['quantile']]=LevelMonth\n",
    "print (month_by_level)"
   ],
   "metadata": {
    "collapsed": false,
    "ExecuteTime": {
     "end_time": "2023-06-24T20:50:52.090640Z",
     "start_time": "2023-06-24T20:50:52.070624Z"
    }
   }
  },
  {
   "cell_type": "markdown",
   "source": [
    "Une fois ceci fait, nous avons alors les données triées selon le niveau. Chaque niveau contient les 12 mois avec les valeurs limites de niveau qui leur sont associées.\n",
    "Cependant, il serait plus intéressant que les données soient triées par mois, tel que chaque moi contienne les mesures limites des 5 niveaux. Cela permettrait de faire des comparaisons entre les mois sans devoir parcourir toutes les données."
   ],
   "metadata": {
    "collapsed": false
   }
  },
  {
   "cell_type": "code",
   "execution_count": 39,
   "outputs": [
    {
     "name": "stdout",
     "output_type": "stream",
     "text": [
      "Janvier\n",
      "{'Niveaux très bas': 215.86, 'Niveaux bas': 215.96, 'Niveaux modérément bas': 216.1, 'Niveaux autour de la moyenne': 216.18, 'Niveaux modérément hauts': 216.26, 'Niveaux hauts': 216.59, 'Niveaux très haut': 216.92}\n",
      "Fevrier\n",
      "{'Niveaux très bas': 215.94, 'Niveaux bas': 216.02, 'Niveaux modérément bas': 216.15, 'Niveaux autour de la moyenne': 216.21, 'Niveaux modérément hauts': 216.29, 'Niveaux hauts': 216.62, 'Niveaux très haut': 217.36}\n",
      "Mars\n",
      "{'Niveaux très bas': 215.93, 'Niveaux bas': 216.02, 'Niveaux modérément bas': 216.15, 'Niveaux autour de la moyenne': 216.22, 'Niveaux modérément hauts': 216.3, 'Niveaux hauts': 216.62, 'Niveaux très haut': 217.34}\n",
      "Avril\n",
      "{'Niveaux très bas': 215.91, 'Niveaux bas': 216.0, 'Niveaux modérément bas': 216.14, 'Niveaux autour de la moyenne': 216.21, 'Niveaux modérément hauts': 216.28, 'Niveaux hauts': 216.53, 'Niveaux très haut': 216.87}\n",
      "Mai\n",
      "{'Niveaux très bas': 215.87, 'Niveaux bas': 215.98, 'Niveaux modérément bas': 216.14, 'Niveaux autour de la moyenne': 216.22, 'Niveaux modérément hauts': 216.31, 'Niveaux hauts': 216.58, 'Niveaux très haut': 216.75}\n",
      "Juin\n",
      "{'Niveaux très bas': 215.83, 'Niveaux bas': 215.95, 'Niveaux modérément bas': 216.13, 'Niveaux autour de la moyenne': 216.22, 'Niveaux modérément hauts': 216.31, 'Niveaux hauts': 216.51, 'Niveaux très haut': 216.68}\n",
      "Juillet\n",
      "{'Niveaux très bas': 215.84, 'Niveaux bas': 215.94, 'Niveaux modérément bas': 216.1, 'Niveaux autour de la moyenne': 216.17, 'Niveaux modérément hauts': 216.25, 'Niveaux hauts': 216.45, 'Niveaux très haut': 216.59}\n",
      "Aout\n",
      "{'Niveaux très bas': 215.79, 'Niveaux bas': 215.87, 'Niveaux modérément bas': 216.0, 'Niveaux autour de la moyenne': 216.06, 'Niveaux modérément hauts': 216.12, 'Niveaux hauts': 216.3, 'Niveaux très haut': 216.43}\n",
      "Septembre\n",
      "{'Niveaux très bas': 215.75, 'Niveaux bas': 215.84, 'Niveaux modérément bas': 215.98, 'Niveaux autour de la moyenne': 216.04, 'Niveaux modérément hauts': 216.12, 'Niveaux hauts': 216.3, 'Niveaux très haut': 216.42}\n",
      "Octobre\n",
      "{'Niveaux très bas': 215.76, 'Niveaux bas': 215.85, 'Niveaux modérément bas': 215.99, 'Niveaux autour de la moyenne': 216.05, 'Niveaux modérément hauts': 216.13, 'Niveaux hauts': 216.35, 'Niveaux très haut': 216.53}\n",
      "Novembre\n",
      "{'Niveaux très bas': 215.83, 'Niveaux bas': 215.9, 'Niveaux modérément bas': 216.01, 'Niveaux autour de la moyenne': 216.06, 'Niveaux modérément hauts': 216.13, 'Niveaux hauts': 216.33, 'Niveaux très haut': 216.5}\n",
      "Decembre\n",
      "{'Niveaux très bas': 215.85, 'Niveaux bas': 215.93, 'Niveaux modérément bas': 216.06, 'Niveaux autour de la moyenne': 216.12, 'Niveaux modérément hauts': 216.19, 'Niveaux hauts': 216.51, 'Niveaux très haut': 216.74}\n"
     ]
    }
   ],
   "source": [
    "# Initialisation du dictionnaire\n",
    "level_by_month = {}\n",
    "\n",
    "# On récupère la liste des mois\n",
    "for i in month_by_level[list(month_by_level.keys())[0]]:\n",
    "    # On initialise le dictionnaire qui contiendra les couples quantiles-mesures\n",
    "    months = {}\n",
    "    #\n",
    "    i1 = i[0].upper()+i[1:]\n",
    "    for x in month_by_level:\n",
    "        months [x] = month_by_level[x][i]\n",
    "    level_by_month[i1] = months\n",
    "for i in level_by_month:\n",
    "    print(i)\n",
    "    # On inverse le dictionnaire, cette opération est nécessaire pour la suite, car nous allons comparer les valeurs du dictionnaire avec les valeurs IPS qui sont les limites supérieurs des niveaux d'eau.\n",
    "    # C'est à dire que pour chaque donnée de niveau, la valeur IPS est la valeur supérieure, ce qui est par exemple entre les valeurs IPS du Niveau bas et du Niveau modérément bas est considéré comme Niveau modérément bas.\n",
    "    level_by_month[i] = dict(reversed(list(level_by_month[i].items())))\n",
    "    print(level_by_month[i])"
   ],
   "metadata": {
    "collapsed": false,
    "ExecuteTime": {
     "end_time": "2023-06-24T20:36:02.866413Z",
     "start_time": "2023-06-24T20:36:02.863100Z"
    }
   }
  },
  {
   "cell_type": "code",
   "execution_count": 40,
   "outputs": [
    {
     "name": "stdout",
     "output_type": "stream",
     "text": [
      "En  2023  au mois de  Janvier  le niveau est  Niveaux modérément bas\n",
      "En  2023  au mois de  Fevrier  le niveau est  Niveaux très bas\n",
      "En  2023  au mois de  Mars  le niveau est  Niveaux très bas\n",
      "En  2023  au mois de  Avril  le niveau est  Niveaux bas\n",
      "En  2023  au mois de  Mai  le niveau est  Niveaux très bas\n",
      "En  2023  au mois de  Juin  le niveau est  Niveaux très bas\n"
     ]
    }
   ],
   "source": [
    "for x in finalData:\n",
    "    # x = {'Janvier': 708.57, 'Février': 708.38, 'Mars': 708.58, 'Avril': 708.56, 'Mai': 708.43, 'Juin': 708.37, 'Juillet': None, 'Août': None, 'Septembre': None, 'Octobre': None, 'Novembre': None, 'Décembre': None}\n",
    "    for i in finalData[x]:\n",
    "        # i = 'Janvier'\n",
    "        for y in level_by_month[i]:\n",
    "            # y = {'Niveaux très haut': 708.44, 'Niveaux hauts': 708.39, 'Niveaux modérément hauts': 708.32, 'Niveaux autour de la moyenne': 708.29, 'Niveaux modérément bas': 708.27, 'Niveaux bas': 708.22, 'Niveaux très bas': 708.18}\n",
    "            if (finalData[x][i] != None):\n",
    "                if (finalData[x][i] > level_by_month[i][y]):\n",
    "                    pass\n",
    "                else:\n",
    "                    print (\"En \",x,\" au mois de \",i,\" le niveau est \",y)\n",
    "                    break"
   ],
   "metadata": {
    "collapsed": false,
    "ExecuteTime": {
     "end_time": "2023-06-24T20:36:02.870056Z",
     "start_time": "2023-06-24T20:36:02.867563Z"
    }
   }
  },
  {
   "cell_type": "markdown",
   "source": [
    "# Utilisation de Plotly pour afficher les données en graphe\n",
    "La libraire [plotly](https://plotly.com/python/) nous permet d'afficher beaucoup d'information graphiquement.\n",
    "Nous devons d'abord transformer les données en matrices afin de les exploiter, ceci se fait grâce à la libraire [numpy](https://numpy.org)\n",
    "\n",
    "# Évolution chronique du niveau de la nappe phréatique"
   ],
   "metadata": {
    "collapsed": false
   }
  },
  {
   "cell_type": "code",
   "execution_count": null,
   "outputs": [],
   "source": [],
   "metadata": {
    "collapsed": false
   }
  },
  {
   "cell_type": "code",
   "execution_count": 118,
   "outputs": [
    {
     "data": {
      "application/vnd.plotly.v1+json": {
       "data": [
        {
         "name": "2023",
         "x": [
          "Janvier",
          "Fevrier",
          "Mars",
          "Avril",
          "Mai",
          "Juin",
          "Juillet",
          "Aout",
          "Septembre",
          "Octobre",
          "Novembre",
          "Decembre"
         ],
         "y": [
          216.0,
          215.94,
          215.91,
          215.92,
          215.87,
          215.83,
          null,
          null,
          null,
          null,
          null,
          null
         ],
         "type": "scatter"
        },
        {
         "fill": "tonexty",
         "hoverinfo": "x+y",
         "mode": "none",
         "name": "Niveaux très bas",
         "x": [
          "Janvier",
          "Fevrier",
          "Mars",
          "Avril",
          "Mai",
          "Juin",
          "Juillet",
          "Aout",
          "Septembre",
          "Octobre",
          "Novembre",
          "Decembre"
         ],
         "y": [
          215.86,
          215.94,
          215.93,
          215.91,
          215.87,
          215.83,
          215.84,
          215.79,
          215.75,
          215.76,
          215.83,
          215.85
         ],
         "type": "scatter"
        },
        {
         "fill": "tonexty",
         "hoverinfo": "x+y",
         "mode": "none",
         "name": "Niveaux bas",
         "x": [
          "Janvier",
          "Fevrier",
          "Mars",
          "Avril",
          "Mai",
          "Juin",
          "Juillet",
          "Aout",
          "Septembre",
          "Octobre",
          "Novembre",
          "Decembre"
         ],
         "y": [
          215.96,
          216.02,
          216.02,
          216.0,
          215.98,
          215.95,
          215.94,
          215.87,
          215.84,
          215.85,
          215.9,
          215.93
         ],
         "type": "scatter"
        },
        {
         "fill": "tonexty",
         "hoverinfo": "x+y",
         "mode": "none",
         "name": "Niveaux modérément bas",
         "x": [
          "Janvier",
          "Fevrier",
          "Mars",
          "Avril",
          "Mai",
          "Juin",
          "Juillet",
          "Aout",
          "Septembre",
          "Octobre",
          "Novembre",
          "Decembre"
         ],
         "y": [
          216.1,
          216.15,
          216.15,
          216.14,
          216.14,
          216.13,
          216.1,
          216.0,
          215.98,
          215.99,
          216.01,
          216.06
         ],
         "type": "scatter"
        },
        {
         "fill": "tonexty",
         "hoverinfo": "x+y",
         "mode": "none",
         "name": "Niveaux autour de la moyenne",
         "x": [
          "Janvier",
          "Fevrier",
          "Mars",
          "Avril",
          "Mai",
          "Juin",
          "Juillet",
          "Aout",
          "Septembre",
          "Octobre",
          "Novembre",
          "Decembre"
         ],
         "y": [
          216.18,
          216.21,
          216.22,
          216.21,
          216.22,
          216.22,
          216.17,
          216.06,
          216.04,
          216.05,
          216.06,
          216.12
         ],
         "type": "scatter"
        },
        {
         "fill": "tonexty",
         "hoverinfo": "x+y",
         "mode": "none",
         "name": "Niveaux modérément hauts",
         "x": [
          "Janvier",
          "Fevrier",
          "Mars",
          "Avril",
          "Mai",
          "Juin",
          "Juillet",
          "Aout",
          "Septembre",
          "Octobre",
          "Novembre",
          "Decembre"
         ],
         "y": [
          216.26,
          216.29,
          216.3,
          216.28,
          216.31,
          216.31,
          216.25,
          216.12,
          216.12,
          216.13,
          216.13,
          216.19
         ],
         "type": "scatter"
        },
        {
         "fill": "tonexty",
         "hoverinfo": "x+y",
         "mode": "none",
         "name": "Niveaux hauts",
         "x": [
          "Janvier",
          "Fevrier",
          "Mars",
          "Avril",
          "Mai",
          "Juin",
          "Juillet",
          "Aout",
          "Septembre",
          "Octobre",
          "Novembre",
          "Decembre"
         ],
         "y": [
          216.59,
          216.62,
          216.62,
          216.53,
          216.58,
          216.51,
          216.45,
          216.3,
          216.3,
          216.35,
          216.33,
          216.51
         ],
         "type": "scatter"
        },
        {
         "fill": "tonexty",
         "hoverinfo": "x+y",
         "mode": "none",
         "name": "Niveaux très haut",
         "x": [
          "Janvier",
          "Fevrier",
          "Mars",
          "Avril",
          "Mai",
          "Juin",
          "Juillet",
          "Aout",
          "Septembre",
          "Octobre",
          "Novembre",
          "Decembre"
         ],
         "y": [
          216.92,
          217.36,
          217.34,
          216.87,
          216.75,
          216.68,
          216.59,
          216.43,
          216.42,
          216.53,
          216.5,
          216.74
         ],
         "type": "scatter"
        }
       ],
       "layout": {
        "template": {
         "data": {
          "histogram2dcontour": [
           {
            "type": "histogram2dcontour",
            "colorbar": {
             "outlinewidth": 0,
             "ticks": ""
            },
            "colorscale": [
             [
              0.0,
              "#0d0887"
             ],
             [
              0.1111111111111111,
              "#46039f"
             ],
             [
              0.2222222222222222,
              "#7201a8"
             ],
             [
              0.3333333333333333,
              "#9c179e"
             ],
             [
              0.4444444444444444,
              "#bd3786"
             ],
             [
              0.5555555555555556,
              "#d8576b"
             ],
             [
              0.6666666666666666,
              "#ed7953"
             ],
             [
              0.7777777777777778,
              "#fb9f3a"
             ],
             [
              0.8888888888888888,
              "#fdca26"
             ],
             [
              1.0,
              "#f0f921"
             ]
            ]
           }
          ],
          "choropleth": [
           {
            "type": "choropleth",
            "colorbar": {
             "outlinewidth": 0,
             "ticks": ""
            }
           }
          ],
          "histogram2d": [
           {
            "type": "histogram2d",
            "colorbar": {
             "outlinewidth": 0,
             "ticks": ""
            },
            "colorscale": [
             [
              0.0,
              "#0d0887"
             ],
             [
              0.1111111111111111,
              "#46039f"
             ],
             [
              0.2222222222222222,
              "#7201a8"
             ],
             [
              0.3333333333333333,
              "#9c179e"
             ],
             [
              0.4444444444444444,
              "#bd3786"
             ],
             [
              0.5555555555555556,
              "#d8576b"
             ],
             [
              0.6666666666666666,
              "#ed7953"
             ],
             [
              0.7777777777777778,
              "#fb9f3a"
             ],
             [
              0.8888888888888888,
              "#fdca26"
             ],
             [
              1.0,
              "#f0f921"
             ]
            ]
           }
          ],
          "heatmap": [
           {
            "type": "heatmap",
            "colorbar": {
             "outlinewidth": 0,
             "ticks": ""
            },
            "colorscale": [
             [
              0.0,
              "#0d0887"
             ],
             [
              0.1111111111111111,
              "#46039f"
             ],
             [
              0.2222222222222222,
              "#7201a8"
             ],
             [
              0.3333333333333333,
              "#9c179e"
             ],
             [
              0.4444444444444444,
              "#bd3786"
             ],
             [
              0.5555555555555556,
              "#d8576b"
             ],
             [
              0.6666666666666666,
              "#ed7953"
             ],
             [
              0.7777777777777778,
              "#fb9f3a"
             ],
             [
              0.8888888888888888,
              "#fdca26"
             ],
             [
              1.0,
              "#f0f921"
             ]
            ]
           }
          ],
          "heatmapgl": [
           {
            "type": "heatmapgl",
            "colorbar": {
             "outlinewidth": 0,
             "ticks": ""
            },
            "colorscale": [
             [
              0.0,
              "#0d0887"
             ],
             [
              0.1111111111111111,
              "#46039f"
             ],
             [
              0.2222222222222222,
              "#7201a8"
             ],
             [
              0.3333333333333333,
              "#9c179e"
             ],
             [
              0.4444444444444444,
              "#bd3786"
             ],
             [
              0.5555555555555556,
              "#d8576b"
             ],
             [
              0.6666666666666666,
              "#ed7953"
             ],
             [
              0.7777777777777778,
              "#fb9f3a"
             ],
             [
              0.8888888888888888,
              "#fdca26"
             ],
             [
              1.0,
              "#f0f921"
             ]
            ]
           }
          ],
          "contourcarpet": [
           {
            "type": "contourcarpet",
            "colorbar": {
             "outlinewidth": 0,
             "ticks": ""
            }
           }
          ],
          "contour": [
           {
            "type": "contour",
            "colorbar": {
             "outlinewidth": 0,
             "ticks": ""
            },
            "colorscale": [
             [
              0.0,
              "#0d0887"
             ],
             [
              0.1111111111111111,
              "#46039f"
             ],
             [
              0.2222222222222222,
              "#7201a8"
             ],
             [
              0.3333333333333333,
              "#9c179e"
             ],
             [
              0.4444444444444444,
              "#bd3786"
             ],
             [
              0.5555555555555556,
              "#d8576b"
             ],
             [
              0.6666666666666666,
              "#ed7953"
             ],
             [
              0.7777777777777778,
              "#fb9f3a"
             ],
             [
              0.8888888888888888,
              "#fdca26"
             ],
             [
              1.0,
              "#f0f921"
             ]
            ]
           }
          ],
          "surface": [
           {
            "type": "surface",
            "colorbar": {
             "outlinewidth": 0,
             "ticks": ""
            },
            "colorscale": [
             [
              0.0,
              "#0d0887"
             ],
             [
              0.1111111111111111,
              "#46039f"
             ],
             [
              0.2222222222222222,
              "#7201a8"
             ],
             [
              0.3333333333333333,
              "#9c179e"
             ],
             [
              0.4444444444444444,
              "#bd3786"
             ],
             [
              0.5555555555555556,
              "#d8576b"
             ],
             [
              0.6666666666666666,
              "#ed7953"
             ],
             [
              0.7777777777777778,
              "#fb9f3a"
             ],
             [
              0.8888888888888888,
              "#fdca26"
             ],
             [
              1.0,
              "#f0f921"
             ]
            ]
           }
          ],
          "mesh3d": [
           {
            "type": "mesh3d",
            "colorbar": {
             "outlinewidth": 0,
             "ticks": ""
            }
           }
          ],
          "scatter": [
           {
            "fillpattern": {
             "fillmode": "overlay",
             "size": 10,
             "solidity": 0.2
            },
            "type": "scatter"
           }
          ],
          "parcoords": [
           {
            "type": "parcoords",
            "line": {
             "colorbar": {
              "outlinewidth": 0,
              "ticks": ""
             }
            }
           }
          ],
          "scatterpolargl": [
           {
            "type": "scatterpolargl",
            "marker": {
             "colorbar": {
              "outlinewidth": 0,
              "ticks": ""
             }
            }
           }
          ],
          "bar": [
           {
            "error_x": {
             "color": "#2a3f5f"
            },
            "error_y": {
             "color": "#2a3f5f"
            },
            "marker": {
             "line": {
              "color": "#E5ECF6",
              "width": 0.5
             },
             "pattern": {
              "fillmode": "overlay",
              "size": 10,
              "solidity": 0.2
             }
            },
            "type": "bar"
           }
          ],
          "scattergeo": [
           {
            "type": "scattergeo",
            "marker": {
             "colorbar": {
              "outlinewidth": 0,
              "ticks": ""
             }
            }
           }
          ],
          "scatterpolar": [
           {
            "type": "scatterpolar",
            "marker": {
             "colorbar": {
              "outlinewidth": 0,
              "ticks": ""
             }
            }
           }
          ],
          "histogram": [
           {
            "marker": {
             "pattern": {
              "fillmode": "overlay",
              "size": 10,
              "solidity": 0.2
             }
            },
            "type": "histogram"
           }
          ],
          "scattergl": [
           {
            "type": "scattergl",
            "marker": {
             "colorbar": {
              "outlinewidth": 0,
              "ticks": ""
             }
            }
           }
          ],
          "scatter3d": [
           {
            "type": "scatter3d",
            "line": {
             "colorbar": {
              "outlinewidth": 0,
              "ticks": ""
             }
            },
            "marker": {
             "colorbar": {
              "outlinewidth": 0,
              "ticks": ""
             }
            }
           }
          ],
          "scattermapbox": [
           {
            "type": "scattermapbox",
            "marker": {
             "colorbar": {
              "outlinewidth": 0,
              "ticks": ""
             }
            }
           }
          ],
          "scatterternary": [
           {
            "type": "scatterternary",
            "marker": {
             "colorbar": {
              "outlinewidth": 0,
              "ticks": ""
             }
            }
           }
          ],
          "scattercarpet": [
           {
            "type": "scattercarpet",
            "marker": {
             "colorbar": {
              "outlinewidth": 0,
              "ticks": ""
             }
            }
           }
          ],
          "carpet": [
           {
            "aaxis": {
             "endlinecolor": "#2a3f5f",
             "gridcolor": "white",
             "linecolor": "white",
             "minorgridcolor": "white",
             "startlinecolor": "#2a3f5f"
            },
            "baxis": {
             "endlinecolor": "#2a3f5f",
             "gridcolor": "white",
             "linecolor": "white",
             "minorgridcolor": "white",
             "startlinecolor": "#2a3f5f"
            },
            "type": "carpet"
           }
          ],
          "table": [
           {
            "cells": {
             "fill": {
              "color": "#EBF0F8"
             },
             "line": {
              "color": "white"
             }
            },
            "header": {
             "fill": {
              "color": "#C8D4E3"
             },
             "line": {
              "color": "white"
             }
            },
            "type": "table"
           }
          ],
          "barpolar": [
           {
            "marker": {
             "line": {
              "color": "#E5ECF6",
              "width": 0.5
             },
             "pattern": {
              "fillmode": "overlay",
              "size": 10,
              "solidity": 0.2
             }
            },
            "type": "barpolar"
           }
          ],
          "pie": [
           {
            "automargin": true,
            "type": "pie"
           }
          ]
         },
         "layout": {
          "autotypenumbers": "strict",
          "colorway": [
           "#636efa",
           "#EF553B",
           "#00cc96",
           "#ab63fa",
           "#FFA15A",
           "#19d3f3",
           "#FF6692",
           "#B6E880",
           "#FF97FF",
           "#FECB52"
          ],
          "font": {
           "color": "#2a3f5f"
          },
          "hovermode": "closest",
          "hoverlabel": {
           "align": "left"
          },
          "paper_bgcolor": "white",
          "plot_bgcolor": "#E5ECF6",
          "polar": {
           "bgcolor": "#E5ECF6",
           "angularaxis": {
            "gridcolor": "white",
            "linecolor": "white",
            "ticks": ""
           },
           "radialaxis": {
            "gridcolor": "white",
            "linecolor": "white",
            "ticks": ""
           }
          },
          "ternary": {
           "bgcolor": "#E5ECF6",
           "aaxis": {
            "gridcolor": "white",
            "linecolor": "white",
            "ticks": ""
           },
           "baxis": {
            "gridcolor": "white",
            "linecolor": "white",
            "ticks": ""
           },
           "caxis": {
            "gridcolor": "white",
            "linecolor": "white",
            "ticks": ""
           }
          },
          "coloraxis": {
           "colorbar": {
            "outlinewidth": 0,
            "ticks": ""
           }
          },
          "colorscale": {
           "sequential": [
            [
             0.0,
             "#0d0887"
            ],
            [
             0.1111111111111111,
             "#46039f"
            ],
            [
             0.2222222222222222,
             "#7201a8"
            ],
            [
             0.3333333333333333,
             "#9c179e"
            ],
            [
             0.4444444444444444,
             "#bd3786"
            ],
            [
             0.5555555555555556,
             "#d8576b"
            ],
            [
             0.6666666666666666,
             "#ed7953"
            ],
            [
             0.7777777777777778,
             "#fb9f3a"
            ],
            [
             0.8888888888888888,
             "#fdca26"
            ],
            [
             1.0,
             "#f0f921"
            ]
           ],
           "sequentialminus": [
            [
             0.0,
             "#0d0887"
            ],
            [
             0.1111111111111111,
             "#46039f"
            ],
            [
             0.2222222222222222,
             "#7201a8"
            ],
            [
             0.3333333333333333,
             "#9c179e"
            ],
            [
             0.4444444444444444,
             "#bd3786"
            ],
            [
             0.5555555555555556,
             "#d8576b"
            ],
            [
             0.6666666666666666,
             "#ed7953"
            ],
            [
             0.7777777777777778,
             "#fb9f3a"
            ],
            [
             0.8888888888888888,
             "#fdca26"
            ],
            [
             1.0,
             "#f0f921"
            ]
           ],
           "diverging": [
            [
             0,
             "#8e0152"
            ],
            [
             0.1,
             "#c51b7d"
            ],
            [
             0.2,
             "#de77ae"
            ],
            [
             0.3,
             "#f1b6da"
            ],
            [
             0.4,
             "#fde0ef"
            ],
            [
             0.5,
             "#f7f7f7"
            ],
            [
             0.6,
             "#e6f5d0"
            ],
            [
             0.7,
             "#b8e186"
            ],
            [
             0.8,
             "#7fbc41"
            ],
            [
             0.9,
             "#4d9221"
            ],
            [
             1,
             "#276419"
            ]
           ]
          },
          "xaxis": {
           "gridcolor": "white",
           "linecolor": "white",
           "ticks": "",
           "title": {
            "standoff": 15
           },
           "zerolinecolor": "white",
           "automargin": true,
           "zerolinewidth": 2
          },
          "yaxis": {
           "gridcolor": "white",
           "linecolor": "white",
           "ticks": "",
           "title": {
            "standoff": 15
           },
           "zerolinecolor": "white",
           "automargin": true,
           "zerolinewidth": 2
          },
          "scene": {
           "xaxis": {
            "backgroundcolor": "#E5ECF6",
            "gridcolor": "white",
            "linecolor": "white",
            "showbackground": true,
            "ticks": "",
            "zerolinecolor": "white",
            "gridwidth": 2
           },
           "yaxis": {
            "backgroundcolor": "#E5ECF6",
            "gridcolor": "white",
            "linecolor": "white",
            "showbackground": true,
            "ticks": "",
            "zerolinecolor": "white",
            "gridwidth": 2
           },
           "zaxis": {
            "backgroundcolor": "#E5ECF6",
            "gridcolor": "white",
            "linecolor": "white",
            "showbackground": true,
            "ticks": "",
            "zerolinecolor": "white",
            "gridwidth": 2
           }
          },
          "shapedefaults": {
           "line": {
            "color": "#2a3f5f"
           }
          },
          "annotationdefaults": {
           "arrowcolor": "#2a3f5f",
           "arrowhead": 0,
           "arrowwidth": 1
          },
          "geo": {
           "bgcolor": "white",
           "landcolor": "#E5ECF6",
           "subunitcolor": "white",
           "showland": true,
           "showlakes": true,
           "lakecolor": "white"
          },
          "title": {
           "x": 0.05
          },
          "mapbox": {
           "style": "light"
          }
         }
        },
        "xaxis": {
         "title": {
          "text": "Month"
         },
         "type": "category"
        },
        "title": {
         "text": "Évolution chronique du niveau de la nappe phréatique"
        },
        "yaxis": {
         "title": {
          "text": "Level"
         }
        }
       },
       "config": {
        "plotlyServerURL": "https://plot.ly"
       }
      },
      "text/html": "<div>                            <div id=\"a1fbb6c6-5cea-4316-a256-b01b9e1a251f\" class=\"plotly-graph-div\" style=\"height:525px; width:100%;\"></div>            <script type=\"text/javascript\">                require([\"plotly\"], function(Plotly) {                    window.PLOTLYENV=window.PLOTLYENV || {};                                    if (document.getElementById(\"a1fbb6c6-5cea-4316-a256-b01b9e1a251f\")) {                    Plotly.newPlot(                        \"a1fbb6c6-5cea-4316-a256-b01b9e1a251f\",                        [{\"name\":\"2023\",\"x\":[\"Janvier\",\"Fevrier\",\"Mars\",\"Avril\",\"Mai\",\"Juin\",\"Juillet\",\"Aout\",\"Septembre\",\"Octobre\",\"Novembre\",\"Decembre\"],\"y\":[216.0,215.94,215.91,215.92,215.87,215.83,null,null,null,null,null,null],\"type\":\"scatter\"},{\"fill\":\"tonexty\",\"hoverinfo\":\"x+y\",\"mode\":\"none\",\"name\":\"Niveaux tr\\u00e8s bas\",\"x\":[\"Janvier\",\"Fevrier\",\"Mars\",\"Avril\",\"Mai\",\"Juin\",\"Juillet\",\"Aout\",\"Septembre\",\"Octobre\",\"Novembre\",\"Decembre\"],\"y\":[215.86,215.94,215.93,215.91,215.87,215.83,215.84,215.79,215.75,215.76,215.83,215.85],\"type\":\"scatter\"},{\"fill\":\"tonexty\",\"hoverinfo\":\"x+y\",\"mode\":\"none\",\"name\":\"Niveaux bas\",\"x\":[\"Janvier\",\"Fevrier\",\"Mars\",\"Avril\",\"Mai\",\"Juin\",\"Juillet\",\"Aout\",\"Septembre\",\"Octobre\",\"Novembre\",\"Decembre\"],\"y\":[215.96,216.02,216.02,216.0,215.98,215.95,215.94,215.87,215.84,215.85,215.9,215.93],\"type\":\"scatter\"},{\"fill\":\"tonexty\",\"hoverinfo\":\"x+y\",\"mode\":\"none\",\"name\":\"Niveaux mod\\u00e9r\\u00e9ment bas\",\"x\":[\"Janvier\",\"Fevrier\",\"Mars\",\"Avril\",\"Mai\",\"Juin\",\"Juillet\",\"Aout\",\"Septembre\",\"Octobre\",\"Novembre\",\"Decembre\"],\"y\":[216.1,216.15,216.15,216.14,216.14,216.13,216.1,216.0,215.98,215.99,216.01,216.06],\"type\":\"scatter\"},{\"fill\":\"tonexty\",\"hoverinfo\":\"x+y\",\"mode\":\"none\",\"name\":\"Niveaux autour de la moyenne\",\"x\":[\"Janvier\",\"Fevrier\",\"Mars\",\"Avril\",\"Mai\",\"Juin\",\"Juillet\",\"Aout\",\"Septembre\",\"Octobre\",\"Novembre\",\"Decembre\"],\"y\":[216.18,216.21,216.22,216.21,216.22,216.22,216.17,216.06,216.04,216.05,216.06,216.12],\"type\":\"scatter\"},{\"fill\":\"tonexty\",\"hoverinfo\":\"x+y\",\"mode\":\"none\",\"name\":\"Niveaux mod\\u00e9r\\u00e9ment hauts\",\"x\":[\"Janvier\",\"Fevrier\",\"Mars\",\"Avril\",\"Mai\",\"Juin\",\"Juillet\",\"Aout\",\"Septembre\",\"Octobre\",\"Novembre\",\"Decembre\"],\"y\":[216.26,216.29,216.3,216.28,216.31,216.31,216.25,216.12,216.12,216.13,216.13,216.19],\"type\":\"scatter\"},{\"fill\":\"tonexty\",\"hoverinfo\":\"x+y\",\"mode\":\"none\",\"name\":\"Niveaux hauts\",\"x\":[\"Janvier\",\"Fevrier\",\"Mars\",\"Avril\",\"Mai\",\"Juin\",\"Juillet\",\"Aout\",\"Septembre\",\"Octobre\",\"Novembre\",\"Decembre\"],\"y\":[216.59,216.62,216.62,216.53,216.58,216.51,216.45,216.3,216.3,216.35,216.33,216.51],\"type\":\"scatter\"},{\"fill\":\"tonexty\",\"hoverinfo\":\"x+y\",\"mode\":\"none\",\"name\":\"Niveaux tr\\u00e8s haut\",\"x\":[\"Janvier\",\"Fevrier\",\"Mars\",\"Avril\",\"Mai\",\"Juin\",\"Juillet\",\"Aout\",\"Septembre\",\"Octobre\",\"Novembre\",\"Decembre\"],\"y\":[216.92,217.36,217.34,216.87,216.75,216.68,216.59,216.43,216.42,216.53,216.5,216.74],\"type\":\"scatter\"}],                        {\"template\":{\"data\":{\"histogram2dcontour\":[{\"type\":\"histogram2dcontour\",\"colorbar\":{\"outlinewidth\":0,\"ticks\":\"\"},\"colorscale\":[[0.0,\"#0d0887\"],[0.1111111111111111,\"#46039f\"],[0.2222222222222222,\"#7201a8\"],[0.3333333333333333,\"#9c179e\"],[0.4444444444444444,\"#bd3786\"],[0.5555555555555556,\"#d8576b\"],[0.6666666666666666,\"#ed7953\"],[0.7777777777777778,\"#fb9f3a\"],[0.8888888888888888,\"#fdca26\"],[1.0,\"#f0f921\"]]}],\"choropleth\":[{\"type\":\"choropleth\",\"colorbar\":{\"outlinewidth\":0,\"ticks\":\"\"}}],\"histogram2d\":[{\"type\":\"histogram2d\",\"colorbar\":{\"outlinewidth\":0,\"ticks\":\"\"},\"colorscale\":[[0.0,\"#0d0887\"],[0.1111111111111111,\"#46039f\"],[0.2222222222222222,\"#7201a8\"],[0.3333333333333333,\"#9c179e\"],[0.4444444444444444,\"#bd3786\"],[0.5555555555555556,\"#d8576b\"],[0.6666666666666666,\"#ed7953\"],[0.7777777777777778,\"#fb9f3a\"],[0.8888888888888888,\"#fdca26\"],[1.0,\"#f0f921\"]]}],\"heatmap\":[{\"type\":\"heatmap\",\"colorbar\":{\"outlinewidth\":0,\"ticks\":\"\"},\"colorscale\":[[0.0,\"#0d0887\"],[0.1111111111111111,\"#46039f\"],[0.2222222222222222,\"#7201a8\"],[0.3333333333333333,\"#9c179e\"],[0.4444444444444444,\"#bd3786\"],[0.5555555555555556,\"#d8576b\"],[0.6666666666666666,\"#ed7953\"],[0.7777777777777778,\"#fb9f3a\"],[0.8888888888888888,\"#fdca26\"],[1.0,\"#f0f921\"]]}],\"heatmapgl\":[{\"type\":\"heatmapgl\",\"colorbar\":{\"outlinewidth\":0,\"ticks\":\"\"},\"colorscale\":[[0.0,\"#0d0887\"],[0.1111111111111111,\"#46039f\"],[0.2222222222222222,\"#7201a8\"],[0.3333333333333333,\"#9c179e\"],[0.4444444444444444,\"#bd3786\"],[0.5555555555555556,\"#d8576b\"],[0.6666666666666666,\"#ed7953\"],[0.7777777777777778,\"#fb9f3a\"],[0.8888888888888888,\"#fdca26\"],[1.0,\"#f0f921\"]]}],\"contourcarpet\":[{\"type\":\"contourcarpet\",\"colorbar\":{\"outlinewidth\":0,\"ticks\":\"\"}}],\"contour\":[{\"type\":\"contour\",\"colorbar\":{\"outlinewidth\":0,\"ticks\":\"\"},\"colorscale\":[[0.0,\"#0d0887\"],[0.1111111111111111,\"#46039f\"],[0.2222222222222222,\"#7201a8\"],[0.3333333333333333,\"#9c179e\"],[0.4444444444444444,\"#bd3786\"],[0.5555555555555556,\"#d8576b\"],[0.6666666666666666,\"#ed7953\"],[0.7777777777777778,\"#fb9f3a\"],[0.8888888888888888,\"#fdca26\"],[1.0,\"#f0f921\"]]}],\"surface\":[{\"type\":\"surface\",\"colorbar\":{\"outlinewidth\":0,\"ticks\":\"\"},\"colorscale\":[[0.0,\"#0d0887\"],[0.1111111111111111,\"#46039f\"],[0.2222222222222222,\"#7201a8\"],[0.3333333333333333,\"#9c179e\"],[0.4444444444444444,\"#bd3786\"],[0.5555555555555556,\"#d8576b\"],[0.6666666666666666,\"#ed7953\"],[0.7777777777777778,\"#fb9f3a\"],[0.8888888888888888,\"#fdca26\"],[1.0,\"#f0f921\"]]}],\"mesh3d\":[{\"type\":\"mesh3d\",\"colorbar\":{\"outlinewidth\":0,\"ticks\":\"\"}}],\"scatter\":[{\"fillpattern\":{\"fillmode\":\"overlay\",\"size\":10,\"solidity\":0.2},\"type\":\"scatter\"}],\"parcoords\":[{\"type\":\"parcoords\",\"line\":{\"colorbar\":{\"outlinewidth\":0,\"ticks\":\"\"}}}],\"scatterpolargl\":[{\"type\":\"scatterpolargl\",\"marker\":{\"colorbar\":{\"outlinewidth\":0,\"ticks\":\"\"}}}],\"bar\":[{\"error_x\":{\"color\":\"#2a3f5f\"},\"error_y\":{\"color\":\"#2a3f5f\"},\"marker\":{\"line\":{\"color\":\"#E5ECF6\",\"width\":0.5},\"pattern\":{\"fillmode\":\"overlay\",\"size\":10,\"solidity\":0.2}},\"type\":\"bar\"}],\"scattergeo\":[{\"type\":\"scattergeo\",\"marker\":{\"colorbar\":{\"outlinewidth\":0,\"ticks\":\"\"}}}],\"scatterpolar\":[{\"type\":\"scatterpolar\",\"marker\":{\"colorbar\":{\"outlinewidth\":0,\"ticks\":\"\"}}}],\"histogram\":[{\"marker\":{\"pattern\":{\"fillmode\":\"overlay\",\"size\":10,\"solidity\":0.2}},\"type\":\"histogram\"}],\"scattergl\":[{\"type\":\"scattergl\",\"marker\":{\"colorbar\":{\"outlinewidth\":0,\"ticks\":\"\"}}}],\"scatter3d\":[{\"type\":\"scatter3d\",\"line\":{\"colorbar\":{\"outlinewidth\":0,\"ticks\":\"\"}},\"marker\":{\"colorbar\":{\"outlinewidth\":0,\"ticks\":\"\"}}}],\"scattermapbox\":[{\"type\":\"scattermapbox\",\"marker\":{\"colorbar\":{\"outlinewidth\":0,\"ticks\":\"\"}}}],\"scatterternary\":[{\"type\":\"scatterternary\",\"marker\":{\"colorbar\":{\"outlinewidth\":0,\"ticks\":\"\"}}}],\"scattercarpet\":[{\"type\":\"scattercarpet\",\"marker\":{\"colorbar\":{\"outlinewidth\":0,\"ticks\":\"\"}}}],\"carpet\":[{\"aaxis\":{\"endlinecolor\":\"#2a3f5f\",\"gridcolor\":\"white\",\"linecolor\":\"white\",\"minorgridcolor\":\"white\",\"startlinecolor\":\"#2a3f5f\"},\"baxis\":{\"endlinecolor\":\"#2a3f5f\",\"gridcolor\":\"white\",\"linecolor\":\"white\",\"minorgridcolor\":\"white\",\"startlinecolor\":\"#2a3f5f\"},\"type\":\"carpet\"}],\"table\":[{\"cells\":{\"fill\":{\"color\":\"#EBF0F8\"},\"line\":{\"color\":\"white\"}},\"header\":{\"fill\":{\"color\":\"#C8D4E3\"},\"line\":{\"color\":\"white\"}},\"type\":\"table\"}],\"barpolar\":[{\"marker\":{\"line\":{\"color\":\"#E5ECF6\",\"width\":0.5},\"pattern\":{\"fillmode\":\"overlay\",\"size\":10,\"solidity\":0.2}},\"type\":\"barpolar\"}],\"pie\":[{\"automargin\":true,\"type\":\"pie\"}]},\"layout\":{\"autotypenumbers\":\"strict\",\"colorway\":[\"#636efa\",\"#EF553B\",\"#00cc96\",\"#ab63fa\",\"#FFA15A\",\"#19d3f3\",\"#FF6692\",\"#B6E880\",\"#FF97FF\",\"#FECB52\"],\"font\":{\"color\":\"#2a3f5f\"},\"hovermode\":\"closest\",\"hoverlabel\":{\"align\":\"left\"},\"paper_bgcolor\":\"white\",\"plot_bgcolor\":\"#E5ECF6\",\"polar\":{\"bgcolor\":\"#E5ECF6\",\"angularaxis\":{\"gridcolor\":\"white\",\"linecolor\":\"white\",\"ticks\":\"\"},\"radialaxis\":{\"gridcolor\":\"white\",\"linecolor\":\"white\",\"ticks\":\"\"}},\"ternary\":{\"bgcolor\":\"#E5ECF6\",\"aaxis\":{\"gridcolor\":\"white\",\"linecolor\":\"white\",\"ticks\":\"\"},\"baxis\":{\"gridcolor\":\"white\",\"linecolor\":\"white\",\"ticks\":\"\"},\"caxis\":{\"gridcolor\":\"white\",\"linecolor\":\"white\",\"ticks\":\"\"}},\"coloraxis\":{\"colorbar\":{\"outlinewidth\":0,\"ticks\":\"\"}},\"colorscale\":{\"sequential\":[[0.0,\"#0d0887\"],[0.1111111111111111,\"#46039f\"],[0.2222222222222222,\"#7201a8\"],[0.3333333333333333,\"#9c179e\"],[0.4444444444444444,\"#bd3786\"],[0.5555555555555556,\"#d8576b\"],[0.6666666666666666,\"#ed7953\"],[0.7777777777777778,\"#fb9f3a\"],[0.8888888888888888,\"#fdca26\"],[1.0,\"#f0f921\"]],\"sequentialminus\":[[0.0,\"#0d0887\"],[0.1111111111111111,\"#46039f\"],[0.2222222222222222,\"#7201a8\"],[0.3333333333333333,\"#9c179e\"],[0.4444444444444444,\"#bd3786\"],[0.5555555555555556,\"#d8576b\"],[0.6666666666666666,\"#ed7953\"],[0.7777777777777778,\"#fb9f3a\"],[0.8888888888888888,\"#fdca26\"],[1.0,\"#f0f921\"]],\"diverging\":[[0,\"#8e0152\"],[0.1,\"#c51b7d\"],[0.2,\"#de77ae\"],[0.3,\"#f1b6da\"],[0.4,\"#fde0ef\"],[0.5,\"#f7f7f7\"],[0.6,\"#e6f5d0\"],[0.7,\"#b8e186\"],[0.8,\"#7fbc41\"],[0.9,\"#4d9221\"],[1,\"#276419\"]]},\"xaxis\":{\"gridcolor\":\"white\",\"linecolor\":\"white\",\"ticks\":\"\",\"title\":{\"standoff\":15},\"zerolinecolor\":\"white\",\"automargin\":true,\"zerolinewidth\":2},\"yaxis\":{\"gridcolor\":\"white\",\"linecolor\":\"white\",\"ticks\":\"\",\"title\":{\"standoff\":15},\"zerolinecolor\":\"white\",\"automargin\":true,\"zerolinewidth\":2},\"scene\":{\"xaxis\":{\"backgroundcolor\":\"#E5ECF6\",\"gridcolor\":\"white\",\"linecolor\":\"white\",\"showbackground\":true,\"ticks\":\"\",\"zerolinecolor\":\"white\",\"gridwidth\":2},\"yaxis\":{\"backgroundcolor\":\"#E5ECF6\",\"gridcolor\":\"white\",\"linecolor\":\"white\",\"showbackground\":true,\"ticks\":\"\",\"zerolinecolor\":\"white\",\"gridwidth\":2},\"zaxis\":{\"backgroundcolor\":\"#E5ECF6\",\"gridcolor\":\"white\",\"linecolor\":\"white\",\"showbackground\":true,\"ticks\":\"\",\"zerolinecolor\":\"white\",\"gridwidth\":2}},\"shapedefaults\":{\"line\":{\"color\":\"#2a3f5f\"}},\"annotationdefaults\":{\"arrowcolor\":\"#2a3f5f\",\"arrowhead\":0,\"arrowwidth\":1},\"geo\":{\"bgcolor\":\"white\",\"landcolor\":\"#E5ECF6\",\"subunitcolor\":\"white\",\"showland\":true,\"showlakes\":true,\"lakecolor\":\"white\"},\"title\":{\"x\":0.05},\"mapbox\":{\"style\":\"light\"}}},\"xaxis\":{\"title\":{\"text\":\"Month\"},\"type\":\"category\"},\"title\":{\"text\":\"\\u00c9volution chronique du niveau de la nappe phr\\u00e9atique\"},\"yaxis\":{\"title\":{\"text\":\"Level\"}}},                        {\"responsive\": true}                    ).then(function(){\n                            \nvar gd = document.getElementById('a1fbb6c6-5cea-4316-a256-b01b9e1a251f');\nvar x = new MutationObserver(function (mutations, observer) {{\n        var display = window.getComputedStyle(gd).display;\n        if (!display || display === 'none') {{\n            console.log([gd, 'removed!']);\n            Plotly.purge(gd);\n            observer.disconnect();\n        }}\n}});\n\n// Listen for the removal of the full notebook cells\nvar notebookContainer = gd.closest('#notebook-container');\nif (notebookContainer) {{\n    x.observe(notebookContainer, {childList: true});\n}}\n\n// Listen for the clearing of the current output cell\nvar outputEl = gd.closest('.output');\nif (outputEl) {{\n    x.observe(outputEl, {childList: true});\n}}\n\n                        })                };                });            </script>        </div>"
     },
     "metadata": {},
     "output_type": "display_data"
    }
   ],
   "source": [
    "import plotly.graph_objs as go\n",
    "import numpy as np\n",
    "\n",
    "fig = go.Figure()\n",
    "fig.update_layout(\n",
    "    title=\"Évolution chronique du niveau de la nappe phréatique\",\n",
    "    xaxis_title=\"Month\",\n",
    "    yaxis_title=\"Level\",\n",
    "    xaxis_type='category',\n",
    ")\n",
    "for x in finalData :\n",
    "    fig.add_trace(go.Scatter(name=x,x=[i for i in finalData[x]],y=[finalData[x][i] for i in finalData[x]]))\n",
    "fig.update()\n",
    "\n",
    "\n",
    "for x in dict(reversed(list(month_by_level.items()))) :\n",
    "    fig.add_trace(go.Scatter(name=x,x=[i[0].upper()+i[1:] for i in month_by_level[x]],y=[month_by_level[x][i] for i in month_by_level[x]], hoverinfo='x+y',fill='tonexty',mode='none'))\n",
    "fig.update()\n",
    "fig.show()"
   ],
   "metadata": {
    "collapsed": false,
    "ExecuteTime": {
     "end_time": "2023-06-24T22:51:56.710760Z",
     "start_time": "2023-06-24T22:51:56.707184Z"
    }
   }
  },
  {
   "cell_type": "code",
   "execution_count": null,
   "outputs": [],
   "source": [],
   "metadata": {
    "collapsed": false
   }
  }
 ],
 "metadata": {
  "kernelspec": {
   "display_name": "Python 3",
   "language": "python",
   "name": "python3"
  },
  "language_info": {
   "codemirror_mode": {
    "name": "ipython",
    "version": 2
   },
   "file_extension": ".py",
   "mimetype": "text/x-python",
   "name": "python",
   "nbconvert_exporter": "python",
   "pygments_lexer": "ipython2",
   "version": "2.7.6"
  }
 },
 "nbformat": 4,
 "nbformat_minor": 0
}
